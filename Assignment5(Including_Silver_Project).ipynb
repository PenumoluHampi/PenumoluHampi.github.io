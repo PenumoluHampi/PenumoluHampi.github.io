{
  "nbformat": 4,
  "nbformat_minor": 0,
  "metadata": {
    "colab": {
      "name": "Assignment5(Including Silver Project).ipynb",
      "provenance": [],
      "collapsed_sections": [],
      "authorship_tag": "ABX9TyPXKOYNCZf25FRmDylQjqnu",
      "include_colab_link": true
    },
    "kernelspec": {
      "name": "python3",
      "display_name": "Python 3"
    }
  },
  "cells": [
    {
      "cell_type": "markdown",
      "metadata": {
        "id": "view-in-github",
        "colab_type": "text"
      },
      "source": [
        "<a href=\"https://colab.research.google.com/github/PenumoluHampi/PenumoluHampi.github.io/blob/master/Assignment5(Including_Silver_Project).ipynb\" target=\"_parent\"><img src=\"https://colab.research.google.com/assets/colab-badge.svg\" alt=\"Open In Colab\"/></a>"
      ]
    },
    {
      "cell_type": "markdown",
      "metadata": {
        "id": "wVechWaXRvE3"
      },
      "source": [
        "**Solution for First question:**"
      ]
    },
    {
      "cell_type": "markdown",
      "metadata": {
        "id": "1Gk24Zt5Sbjq"
      },
      "source": [
        "**1.Solution:**"
      ]
    },
    {
      "cell_type": "code",
      "metadata": {
        "id": "4jy_FZIuUqsX",
        "outputId": "544e55ea-5633-4191-8d82-ea024917bd44",
        "colab": {
          "base_uri": "https://localhost:8080/",
          "height": 34
        }
      },
      "source": [
        "file = open('Letsupgrade.txt','w')\n",
        "file.write(\"I Love Free Coding School\")\n",
        "file.close()\n",
        "file=open('Letsupgrade.txt','r')\n",
        "text=file.read()\n",
        "print(text)\n",
        "file.close()"
      ],
      "execution_count": null,
      "outputs": [
        {
          "output_type": "stream",
          "text": [
            "I Love Free Coding School\n"
          ],
          "name": "stdout"
        }
      ]
    },
    {
      "cell_type": "code",
      "metadata": {
        "id": "hdGmD7PlEkiP"
      },
      "source": [
        ""
      ],
      "execution_count": null,
      "outputs": []
    },
    {
      "cell_type": "code",
      "metadata": {
        "id": "VSOP74cy1L_3"
      },
      "source": [
        ""
      ],
      "execution_count": null,
      "outputs": []
    },
    {
      "cell_type": "markdown",
      "metadata": {
        "id": "vi-z3He3_0nc"
      },
      "source": [
        "**FCS Silver Project**"
      ]
    },
    {
      "cell_type": "code",
      "metadata": {
        "id": "djPX3dSR_8Df"
      },
      "source": [
        "import random\n",
        "\n",
        "\n",
        "def create_board():\n",
        "        for i in range(0,1,8):\n",
        "            print(' -----------------\\n\\n|  %d  |  %d  |  %d  |\\n\\n -----------------\\n\\n|  %d  |  %d  |  %d  |\\n\\n -----------------\\n\\n|  %d  |  %d  |  %d  | \\n\\n-----------------'%(i+1,i+2,i+3,i+4,i+5,i+6,i+7,i+8,i+9))\n",
        "        print('Let us start the game!!')\n",
        "        \n",
        "\n",
        "            \n",
        "def placemarker1():\n",
        "        while True:\n",
        "            a=input('Enter your marker correctly:')\n",
        "            if a.lower()=='x':\n",
        "                print('Your marker is x')\n",
        "                break\n",
        "        return a\n",
        "    \n",
        "\n",
        "\n",
        "def placemarker2():\n",
        "        while True:\n",
        "            b=input('Enter your marker correctly:')\n",
        "            if b.lower()=='o':\n",
        "                print('Your marker is o')\n",
        "                break\n",
        "        return b\n",
        "\n",
        "\n",
        "\n",
        "def logic(k,c,d):\n",
        "        j=0\n",
        "        if k==1:\n",
        "            d[1]=c\n",
        "            \n",
        "            print(' -----------------')            \n",
        "            print('|  %s  |  %s  |  %s  |'%(d[1],d[2],d[3]))\n",
        "            print(' -----------------')\n",
        "            print('|  %s  |  %s  |  %s  |'%(d[4],d[5],d[6]))\n",
        "            print(' -----------------')\n",
        "            print('|  %s  |  %s  |  %s  |'%(d[7],d[8],d[9]))\n",
        "            print(' -----------------')\n",
        "\n",
        "        elif k==2:\n",
        "            d[2]=c\n",
        "            print(' -----------------')\n",
        "            print('|  %s  |  %s  |  %s  |'%(d[1],d[2],d[3]))\n",
        "            print(' -----------------')\n",
        "            print('|  %s  |  %s  |  %s  |'%(d[4],d[5],d[6]))\n",
        "            print(' -----------------')\n",
        "            print('|  %s  |  %s  |  %s  |'%(d[7],d[8],d[9]))\n",
        "            print(' -----------------')\n",
        " \n",
        "        elif k==3:\n",
        "            d[3]=c\n",
        "            print(' -----------------')\n",
        "            print('|  %s  |  %s  |  %s  |'%(d[1],d[2],d[3]))\n",
        "            print(' -----------------')\n",
        "            print('|  %s  |  %s  |  %s  |'%(d[4],d[5],d[6]))\n",
        "            print(' -----------------')\n",
        "            print('|  %s  |  %s  |  %s  |'%(d[7],d[8],d[9]))\n",
        "            print(' -----------------')\n",
        " \n",
        "        elif k==4:\n",
        "            d[4]=c\n",
        "            print(' -----------------')\n",
        "            print('|  %s  |  %s  |  %s  |'%(d[1],d[2],d[3]))\n",
        "            print(' -----------------')\n",
        "            print('|  %s  |  %s  |  %s  |'%(d[4],d[5],d[6]))\n",
        "            print(' -----------------')\n",
        "            print('|  %s  |  %s  |  %s  |'%(d[7],d[8],d[9]))\n",
        "            print(' -----------------')\n",
        " \n",
        "        elif k==5:\n",
        "            d[5]=c\n",
        "            print(' -----------------')\n",
        "            print('|  %s  |  %s  |  %s  |'%(d[1],d[2],d[3]))\n",
        "            print(' -----------------')\n",
        "            print('|  %s  |  %s  |  %s  |'%(d[4],d[5],d[6]))\n",
        "            print(' -----------------')\n",
        "            print('|  %s  |  %s  |  %s  |'%(d[7],d[8],d[9]))\n",
        "            print(' -----------------')\n",
        " \n",
        "        elif k==6:\n",
        "            d[6]=c\n",
        "            print('-----------------')\n",
        "            print('|  %s  |  %s  |  %s  |'%(d[1],d[2],d[3]))\n",
        "            print(' -----------------')\n",
        "            print('|  %s  |  %s  |  %s  |'%(d[4],d[5],d[6]))\n",
        "            print(' -----------------')\n",
        "            print('|  %s  |  %s  |  %s  |'%(d[7],d[8],d[9]))\n",
        "            print('-----------------')\n",
        "\n",
        "          \n",
        " \n",
        "        elif k==7:\n",
        "            d[7]=c\n",
        "            print(' -----------------')\n",
        "            print('|  %s  |  %s  |  %s  |'%(d[1],d[2],d[3]))\n",
        "            print(' -----------------')\n",
        "            print('|  %s  |  %s  |  %s  |'%(d[4],d[5],d[6]))\n",
        "            print(' -----------------')\n",
        "            print('|  %s  |  %s  |  %s  |'%(d[7],d[8],d[9]))\n",
        "            print(' -----------------')\n",
        " \n",
        "        elif k==8:\n",
        "            d[8]=c\n",
        "            print(' -----------------')\n",
        "            print('|  %s  |  %s  |  %s  |'%(d[1],d[2],d[3]))\n",
        "            print(' -----------------')\n",
        "            print('|  %s  |  %s  |  %s  |'%(d[4],d[5],d[6]))\n",
        "            print('-----------------')\n",
        "            print('|  %s  |  %s  |  %s  |'%(d[7],d[8],d[9]))\n",
        "            print('-----------------')\n",
        " \n",
        "        elif k==9:\n",
        "            d[9]=c\n",
        "            print(' -----------------')\n",
        "            print('|  %s  |  %s  |  %s  |'%(d[1],d[2],d[3]))\n",
        "            print(' -----------------')\n",
        "            print('|  %s  |  %s  |  %s  |'%(d[4],d[5],d[6]))\n",
        "            print(' -----------------')\n",
        "            print('|  %s  |  %s  |  %s  |'%(d[7],d[8],d[9]))\n",
        "            print(' -----------------')\n",
        "            \n",
        "        j=j+1\n",
        "        return j\n",
        "\n",
        "\n",
        "\n",
        "\n",
        "\n",
        "            \n",
        "def users_input():\n",
        "    i=m=n=t=0\n",
        "    r=random.randint(1,2)\n",
        "    if r==1:\n",
        "        print(\"First person should play first\")\n",
        "    else:\n",
        "        print(\"Second person should play first\")\n",
        "    \n",
        "    d={1:'',2:'',3:'',4:'',5:'',6:'',7:'',8:'',9:''}\n",
        "    \n",
        "    while True:\n",
        "\n",
        "        def Player(A):\n",
        "            while A>9 or d[A]!='':                \n",
        "                A=int(input('Enter the correct input it might be filled or it might be greater thean the value 9:'))\n",
        "                break\n",
        "            \n",
        "        def decision(d):        \n",
        "            p=q=0\n",
        "            \n",
        "            while True:\n",
        "                if ((d[1]==d[2]==d[3]=='x') or (d[1]==d[5]==d[9]=='x') or (d[4]==d[5]==d[6]=='x') or (d[7]==d[8]==d[9]=='x') or(d[1]==d[4]==d[7]=='x') or (d[2]==d[8]==d[5]=='x')or(d[3]==d[6]==d[9]=='x')or(d[3]==d[5]==d[7]=='x')):\n",
        "                    print('First player got a point and nearly going to win')\n",
        "                    p=p+1\n",
        "                    pass\n",
        "                if((d[1]==d[2]==d[3]=='o') or (d[1]==d[5]==d[9]=='o') or (d[4]==d[5]==d[6]=='o') or (d[7]==d[8]==d[9]=='o') or(d[1]==d[4]==d[7]=='o') or (d[2]==d[8]==d[5]=='o')or(d[3]==d[6]==d[9]=='o')or(d[3]==d[5]==d[7]=='o')):\n",
        "                    print('Second player got a point and nearly going to win')\n",
        "                    q=q+1\n",
        "                    pass\n",
        "                if p==1 and q==1:\n",
        "                    print('Tie between two players')\n",
        "                    pass\n",
        "                break\n",
        "            return p,q\n",
        "                    \n",
        "                \n",
        "        if r==1 or r%2!=0:\n",
        "            A=int(input('Enter the first user input:'))\n",
        "            Player(A)\n",
        "            ch1=placemarker1()\n",
        "            m=logic(A,ch1,d)\n",
        "            n,t=decision(d)\n",
        "                        \n",
        "        else:\n",
        "                        \n",
        "            B=int(input('Enter the second user input:'))\n",
        "            Player(B)\n",
        "            ch2=placemarker2()\n",
        "            m=logic(B,ch2,d)\n",
        "            n,t=decision(d)\n",
        "\n",
        "                        \n",
        "\n",
        "                    \n",
        "        r=r+1\n",
        "        i=i+1\n",
        "        if i==9:\n",
        "            break\n",
        "                \n",
        "    return n,t\n",
        "            \n",
        "\n",
        "\n",
        "\n",
        "def Introduction():\n",
        "    print('Do you want to play ?')\n",
        "    create_board()\n",
        "    g,h=users_input()\n",
        "    if(g>h):\n",
        "      print('Congratulations!Finally,First player won the match')\n",
        "    elif(h>g):\n",
        "      print('Congratulations!Finally,Second player won the match')\n",
        "    elif h==g:\n",
        "      print('Tie between two players')\n",
        "\n",
        "\n",
        "\n",
        "Introduction()\n",
        "print('Do you want to play again?')\n",
        "answer=input()\n",
        "if answer.lower()=='yes':\n",
        "    Introduction()\n",
        "else:\n",
        "    print('Thank you')            \n",
        "\n",
        "\n"
      ],
      "execution_count": null,
      "outputs": []
    },
    {
      "cell_type": "code",
      "metadata": {
        "id": "m4z1zTmvAKaK"
      },
      "source": [
        ""
      ],
      "execution_count": null,
      "outputs": []
    }
  ]
}