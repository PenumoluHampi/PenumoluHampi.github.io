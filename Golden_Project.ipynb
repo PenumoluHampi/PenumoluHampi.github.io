{
  "nbformat": 4,
  "nbformat_minor": 0,
  "metadata": {
    "colab": {
      "name": "Golden Project.ipynb",
      "provenance": [],
      "collapsed_sections": [],
      "authorship_tag": "ABX9TyM1di7cyA+JEVSrIriFSZ1J",
      "include_colab_link": true
    },
    "kernelspec": {
      "name": "python3",
      "display_name": "Python 3"
    }
  },
  "cells": [
    {
      "cell_type": "markdown",
      "metadata": {
        "id": "view-in-github",
        "colab_type": "text"
      },
      "source": [
        "<a href=\"https://colab.research.google.com/github/PenumoluHampi/PenumoluHampi.github.io/blob/master/Golden_Project.ipynb\" target=\"_parent\"><img src=\"https://colab.research.google.com/assets/colab-badge.svg\" alt=\"Open In Colab\"/></a>"
      ]
    },
    {
      "cell_type": "markdown",
      "metadata": {
        "id": "1buxISRs5QKQ"
      },
      "source": [
        "**Golden Project:**"
      ]
    },
    {
      "cell_type": "code",
      "metadata": {
        "id": "IUCjqcCaL_ej"
      },
      "source": [
        "N=int(input('Input:'))\n",
        "answer=1\n",
        "if N>=1 and N<=103:\n",
        "  for i in range(1,N+1):\n",
        "    print(i,end=' ')\n",
        "    answer=(answer*i) % (109**7)\n",
        "else:\n",
        "  print(\"This is out of the given constraints\")\n",
        "print()\n",
        "print('Output:')\n",
        "print(answer)"
      ],
      "execution_count": null,
      "outputs": []
    },
    {
      "cell_type": "code",
      "metadata": {
        "id": "tVoXXHhsNvfq"
      },
      "source": [
        ""
      ],
      "execution_count": null,
      "outputs": []
    }
  ]
}