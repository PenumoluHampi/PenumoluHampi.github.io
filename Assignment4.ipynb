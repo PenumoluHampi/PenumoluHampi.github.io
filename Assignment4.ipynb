{
  "nbformat": 4,
  "nbformat_minor": 0,
  "metadata": {
    "colab": {
      "name": "Assignment4.ipynb",
      "provenance": [],
      "collapsed_sections": [],
      "authorship_tag": "ABX9TyOK1l3moLypIyami+Tb/fGl",
      "include_colab_link": true
    },
    "kernelspec": {
      "name": "python3",
      "display_name": "Python 3"
    }
  },
  "cells": [
    {
      "cell_type": "markdown",
      "metadata": {
        "id": "view-in-github",
        "colab_type": "text"
      },
      "source": [
        "<a href=\"https://colab.research.google.com/github/PenumoluHampi/PenumoluHampi.github.io/blob/master/Assignment4.ipynb\" target=\"_parent\"><img src=\"https://colab.research.google.com/assets/colab-badge.svg\" alt=\"Open In Colab\"/></a>"
      ]
    },
    {
      "cell_type": "markdown",
      "metadata": {
        "id": "nVFL8jZWeAdv",
        "colab_type": "text"
      },
      "source": [
        "**Solution for first problem**"
      ]
    },
    {
      "cell_type": "markdown",
      "metadata": {
        "id": "uBQANzqFeJTI",
        "colab_type": "text"
      },
      "source": [
        "**1.Solution:**"
      ]
    },
    {
      "cell_type": "code",
      "metadata": {
        "id": "vtHXGJDYdvZX",
        "colab_type": "code",
        "colab": {
          "base_uri": "https://localhost:8080/",
          "height": 67
        },
        "outputId": "caf078a6-c798-400a-f123-c6cab0a5db34"
      },
      "source": [
        "def Match(s,m):\n",
        "  for i in m:\n",
        "    for j in s:\n",
        "      if i==j:\n",
        "        s.remove(j)\n",
        "        break\n",
        "      else:\n",
        "        break\n",
        "\n",
        "\n",
        "  if len(s)==0:\n",
        "    print(' It is Matched')\n",
        "  else:\n",
        "    print('It is Gone')\n",
        "  \n",
        "\n",
        "Sub_list=[int(k) for k in input('Enter the sub list:').split()]\n",
        "Main_list=[int(k) for k in input('Enter the main list:').split()]\n",
        "Match(Sub_list,Main_list)\n",
        "\n"
      ],
      "execution_count": 37,
      "outputs": [
        {
          "output_type": "stream",
          "text": [
            "Enter the sub list:1 1 5\n",
            "Enter the main list:1 5 6 4 1 2 3 5\n",
            " It is Matched\n"
          ],
          "name": "stdout"
        }
      ]
    },
    {
      "cell_type": "code",
      "metadata": {
        "id": "XDRg-oK2gZoo",
        "colab_type": "code",
        "colab": {}
      },
      "source": [
        ""
      ],
      "execution_count": 0,
      "outputs": []
    },
    {
      "cell_type": "code",
      "metadata": {
        "id": "WeGSvM03pa0H",
        "colab_type": "code",
        "colab": {}
      },
      "source": [
        ""
      ],
      "execution_count": 0,
      "outputs": []
    },
    {
      "cell_type": "code",
      "metadata": {
        "id": "B3mOdl4Pxpm5",
        "colab_type": "code",
        "colab": {}
      },
      "source": [
        ""
      ],
      "execution_count": 0,
      "outputs": []
    },
    {
      "cell_type": "code",
      "metadata": {
        "id": "fCq8URccxqUW",
        "colab_type": "code",
        "colab": {}
      },
      "source": [
        ""
      ],
      "execution_count": 0,
      "outputs": []
    },
    {
      "cell_type": "markdown",
      "metadata": {
        "id": "jcjz1VbKxrP-",
        "colab_type": "text"
      },
      "source": [
        "**Solution for Second Problem**"
      ]
    },
    {
      "cell_type": "markdown",
      "metadata": {
        "id": "ifX4JpEXxy81",
        "colab_type": "text"
      },
      "source": [
        "**2.Solution:**"
      ]
    },
    {
      "cell_type": "code",
      "metadata": {
        "id": "yWjCW7boxwgt",
        "colab_type": "code",
        "colab": {
          "base_uri": "https://localhost:8080/",
          "height": 151
        },
        "outputId": "a08ac831-1f5d-412a-ccc4-9d30525e7540"
      },
      "source": [
        "\n",
        "def addition(x, y):\n",
        "    return x + y\n",
        "\n",
        "def subtraction(x, y):\n",
        "    return x - y\n",
        "\n",
        "def multiplication(x, y):\n",
        "    return x * y\n",
        "\n",
        "def division(x, y):\n",
        "    return x / y\n",
        "\n",
        "num1,num2=[int(i) for i in input('Enter two numbers to perform operation:').split()]\n",
        "print(\"Select operation.\")\n",
        "print(\"1.Add\")\n",
        "print(\"2.Subtract\")\n",
        "print(\"3.Multiply\")\n",
        "print(\"4.Divide\")\n",
        "\n",
        "while True:\n",
        "    choice = input(\"Enter your choice: \")\n",
        "\n",
        "    if choice in ('1', '2', '3', '4'):\n",
        "        if choice == '1':\n",
        "            print('Answer =',addition(num1, num2))\n",
        "\n",
        "        elif choice == '2':\n",
        "            print('Answer =',subtraction(num1, num2))\n",
        "\n",
        "        elif choice == '3':\n",
        "            print('Answer =',multiplication(num1, num2))\n",
        "\n",
        "        elif choice == '4':\n",
        "            print('Answer =',division(num1, num2))\n",
        "        break\n",
        "    else:\n",
        "        print(\"Invalid Choice\")"
      ],
      "execution_count": 45,
      "outputs": [
        {
          "output_type": "stream",
          "text": [
            "Enter two numbers to perform operation:3 5\n",
            "Select operation.\n",
            "1.Add\n",
            "2.Subtract\n",
            "3.Multiply\n",
            "4.Divide\n",
            "Enter your choice: 3\n",
            "Answer = 15\n"
          ],
          "name": "stdout"
        }
      ]
    },
    {
      "cell_type": "code",
      "metadata": {
        "id": "L3VpMte-zGK3",
        "colab_type": "code",
        "colab": {}
      },
      "source": [
        ""
      ],
      "execution_count": 0,
      "outputs": []
    }
  ]
}