{
  "nbformat": 4,
  "nbformat_minor": 0,
  "metadata": {
    "colab": {
      "name": "Assignment3.ipynb",
      "provenance": [],
      "collapsed_sections": [],
      "authorship_tag": "ABX9TyOkp0zP/YVzRjYmSWDY82Jt",
      "include_colab_link": true
    },
    "kernelspec": {
      "name": "python3",
      "display_name": "Python 3"
    }
  },
  "cells": [
    {
      "cell_type": "markdown",
      "metadata": {
        "id": "view-in-github",
        "colab_type": "text"
      },
      "source": [
        "<a href=\"https://colab.research.google.com/github/PenumoluHampi/PenumoluHampi.github.io/blob/master/Assignment3.ipynb\" target=\"_parent\"><img src=\"https://colab.research.google.com/assets/colab-badge.svg\" alt=\"Open In Colab\"/></a>"
      ]
    },
    {
      "cell_type": "markdown",
      "metadata": {
        "id": "elbEYCUJLzC1",
        "colab_type": "text"
      },
      "source": [
        "**Solution for First question**"
      ]
    },
    {
      "cell_type": "markdown",
      "metadata": {
        "id": "mouz6OLcL_Rv",
        "colab_type": "text"
      },
      "source": [
        "**1.Solution:**"
      ]
    },
    {
      "cell_type": "code",
      "metadata": {
        "id": "Gi_UgcaRL9bH",
        "colab_type": "code",
        "colab": {}
      },
      "source": [
        ""
      ],
      "execution_count": 0,
      "outputs": []
    },
    {
      "cell_type": "code",
      "metadata": {
        "id": "gYWiIDt4MIEM",
        "colab_type": "code",
        "outputId": "c7e552d7-47fb-42c1-88ec-f3eb7767cf34",
        "colab": {
          "base_uri": "https://localhost:8080/",
          "height": 84
        }
      },
      "source": [
        "N=int(input())\n",
        "print('|--------|')\n",
        "if N>=91 and N<=100:\n",
        "  print('|    A   |')\n",
        "elif N>=81 and N<=90:\n",
        "  print('|    B   |')\n",
        "elif N>=71 and N<=80:\n",
        "  print('|    C   |')\n",
        "elif N>=61 and N<=70:\n",
        "  print('|    D   |')\n",
        "elif N>=51 and N<=60:\n",
        "  print('|    E   |')\n",
        "else:\n",
        "  print('|  Fail  |')\n",
        "print('|--------|')"
      ],
      "execution_count": 0,
      "outputs": [
        {
          "output_type": "stream",
          "text": [
            "97\n",
            "|--------|\n",
            "|    A   |\n",
            "|--------|\n"
          ],
          "name": "stdout"
        }
      ]
    },
    {
      "cell_type": "code",
      "metadata": {
        "id": "fEnvdhl0NUl8",
        "colab_type": "code",
        "colab": {}
      },
      "source": [
        ""
      ],
      "execution_count": 0,
      "outputs": []
    },
    {
      "cell_type": "code",
      "metadata": {
        "id": "LByF40VjPXnK",
        "colab_type": "code",
        "colab": {}
      },
      "source": [
        ""
      ],
      "execution_count": 0,
      "outputs": []
    },
    {
      "cell_type": "code",
      "metadata": {
        "id": "ut3rdDXZPYDn",
        "colab_type": "code",
        "colab": {}
      },
      "source": [
        ""
      ],
      "execution_count": 0,
      "outputs": []
    },
    {
      "cell_type": "code",
      "metadata": {
        "id": "t9gs5uIhPYgQ",
        "colab_type": "code",
        "colab": {}
      },
      "source": [
        ""
      ],
      "execution_count": 0,
      "outputs": []
    },
    {
      "cell_type": "markdown",
      "metadata": {
        "id": "qaOtN1aSPbK-",
        "colab_type": "text"
      },
      "source": [
        "**Solution for second question**"
      ]
    },
    {
      "cell_type": "markdown",
      "metadata": {
        "id": "HAFy4pAhQF_X",
        "colab_type": "text"
      },
      "source": [
        "**2.Solution:**"
      ]
    },
    {
      "cell_type": "code",
      "metadata": {
        "id": "Lbrl57-cQECx",
        "colab_type": "code",
        "outputId": "4c817214-e27e-409c-d329-ba11fa568898",
        "colab": {
          "base_uri": "https://localhost:8080/",
          "height": 50
        }
      },
      "source": [
        "import random\n",
        "S=random.randint(1,250)\n",
        "user_input=int(input('Enter your guess:'))\n",
        "R=S-user_input\n",
        "\n",
        "if user_input<1 and user_input>250:\n",
        "  print('Reduce your expectation for 20-20 Cricket')\n",
        "elif user_input>=1 and user_input<=250:\n",
        "  if R>10:\n",
        "    print('Close By,you are True Indian Fan!')\n",
        "  elif R<10:\n",
        "    print('You are not a true Indian Fan! :P')"
      ],
      "execution_count": 0,
      "outputs": [
        {
          "output_type": "stream",
          "text": [
            "Enter your guess:1\n",
            "You are not a true Indian Fan! :P\n"
          ],
          "name": "stdout"
        }
      ]
    },
    {
      "cell_type": "code",
      "metadata": {
        "id": "AAZvMreeU1NP",
        "colab_type": "code",
        "colab": {}
      },
      "source": [
        ""
      ],
      "execution_count": 0,
      "outputs": []
    },
    {
      "cell_type": "code",
      "metadata": {
        "id": "51bHM5-hWJ_-",
        "colab_type": "code",
        "colab": {}
      },
      "source": [
        ""
      ],
      "execution_count": 0,
      "outputs": []
    },
    {
      "cell_type": "code",
      "metadata": {
        "id": "Bf7hiA6XWKmS",
        "colab_type": "code",
        "colab": {}
      },
      "source": [
        ""
      ],
      "execution_count": 0,
      "outputs": []
    },
    {
      "cell_type": "code",
      "metadata": {
        "id": "K1ayydHeWLFF",
        "colab_type": "code",
        "colab": {}
      },
      "source": [
        ""
      ],
      "execution_count": 0,
      "outputs": []
    },
    {
      "cell_type": "markdown",
      "metadata": {
        "id": "Qvz_Ld5UWMHj",
        "colab_type": "text"
      },
      "source": [
        "**Solution for Third question**"
      ]
    },
    {
      "cell_type": "markdown",
      "metadata": {
        "id": "pfaot3z1WWwG",
        "colab_type": "text"
      },
      "source": [
        "**3.Solution:**"
      ]
    },
    {
      "cell_type": "code",
      "metadata": {
        "id": "IsgbLY1dWVuu",
        "colab_type": "code",
        "outputId": "eff3a245-4235-4b02-9948-78d9dd983e92",
        "colab": {
          "base_uri": "https://localhost:8080/",
          "height": 118
        }
      },
      "source": [
        "L = int(input())\n",
        "N = int(input())\n",
        "i = 0\n",
        "if L>1 and L<10000 and (N>1 and N<1000):\n",
        "  while i < N:\n",
        "      W,H=[int(j) for j in input('Enter width and height:').split()]\n",
        "      if W>1 and W<10000 and(H>1 and H<10000):\n",
        "        if W < L or H < L:\n",
        "            print('UPLOAD ANOTHER')\n",
        "        else:\n",
        "            if W == H and (W >= L and H >= L) :\n",
        "                print('ACCEPTED')\n",
        "            else:\n",
        "                print('CROP IT')\n",
        "      else:\n",
        "        print('Out of range')\n",
        "      i+=1\n",
        "else:\n",
        "  print('Out of range')"
      ],
      "execution_count": 0,
      "outputs": [
        {
          "output_type": "stream",
          "text": [
            "16\n",
            "2\n",
            "Enter width and height:17 17\n",
            "ACCEPTED\n",
            "Enter width and height:12000 14000\n",
            "Out of range\n"
          ],
          "name": "stdout"
        }
      ]
    },
    {
      "cell_type": "code",
      "metadata": {
        "id": "MvRxiZSAY997",
        "colab_type": "code",
        "colab": {}
      },
      "source": [
        ""
      ],
      "execution_count": 0,
      "outputs": []
    },
    {
      "cell_type": "code",
      "metadata": {
        "id": "uAseX7baakzw",
        "colab_type": "code",
        "colab": {}
      },
      "source": [
        ""
      ],
      "execution_count": 0,
      "outputs": []
    },
    {
      "cell_type": "code",
      "metadata": {
        "id": "ArWlAcS-alRv",
        "colab_type": "code",
        "colab": {}
      },
      "source": [
        ""
      ],
      "execution_count": 0,
      "outputs": []
    },
    {
      "cell_type": "code",
      "metadata": {
        "id": "DbPpzlo2alt1",
        "colab_type": "code",
        "colab": {}
      },
      "source": [
        ""
      ],
      "execution_count": 0,
      "outputs": []
    },
    {
      "cell_type": "markdown",
      "metadata": {
        "id": "r5aBNuF5anQK",
        "colab_type": "text"
      },
      "source": [
        "**Solution for Fourth question**"
      ]
    },
    {
      "cell_type": "markdown",
      "metadata": {
        "id": "zEK_UEYAayNJ",
        "colab_type": "text"
      },
      "source": [
        "**4.Solution:**"
      ]
    },
    {
      "cell_type": "code",
      "metadata": {
        "id": "ejBMn5Tvaw7A",
        "colab_type": "code",
        "outputId": "5efd7656-1eca-4676-c867-79820c85abff",
        "colab": {
          "base_uri": "https://localhost:8080/",
          "height": 50
        }
      },
      "source": [
        "Path=input()\n",
        "\n",
        "Traverse=list(Path)\n",
        "\n",
        "x=y=0\n",
        "\n",
        "for i in Traverse:\n",
        "\n",
        "    if(i=='L'):\n",
        "\n",
        "        x-=1\n",
        "\n",
        "    elif(i=='R'):\n",
        "\n",
        "        x+=1\n",
        "\n",
        "    elif(i=='U'):\n",
        "\n",
        "        y+=1\n",
        "\n",
        "    else:\n",
        "\n",
        "        y-=1\n",
        "\n",
        "print('(%d,%d)'%(x,y))"
      ],
      "execution_count": 0,
      "outputs": [
        {
          "output_type": "stream",
          "text": [
            "LRDR\n",
            "(1,-1)\n"
          ],
          "name": "stdout"
        }
      ]
    },
    {
      "cell_type": "code",
      "metadata": {
        "id": "yaixKgn4eIJX",
        "colab_type": "code",
        "colab": {}
      },
      "source": [
        ""
      ],
      "execution_count": 0,
      "outputs": []
    }
  ]
}