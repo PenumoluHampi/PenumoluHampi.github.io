{
  "nbformat": 4,
  "nbformat_minor": 0,
  "metadata": {
    "colab": {
      "name": "Assignment8.ipynb",
      "provenance": [],
      "authorship_tag": "ABX9TyN98xobcWn4tV3aFv1MHnCx",
      "include_colab_link": true
    },
    "kernelspec": {
      "name": "python3",
      "display_name": "Python 3"
    }
  },
  "cells": [
    {
      "cell_type": "markdown",
      "metadata": {
        "id": "view-in-github",
        "colab_type": "text"
      },
      "source": [
        "<a href=\"https://colab.research.google.com/github/PenumoluHampi/PenumoluHampi.github.io/blob/master/Assignment8.ipynb\" target=\"_parent\"><img src=\"https://colab.research.google.com/assets/colab-badge.svg\" alt=\"Open In Colab\"/></a>"
      ]
    },
    {
      "cell_type": "markdown",
      "metadata": {
        "id": "z6bus_zSBPSC"
      },
      "source": [
        "**Solution for First Question**"
      ]
    },
    {
      "cell_type": "markdown",
      "metadata": {
        "id": "Ha8R1xBxBVmV"
      },
      "source": [
        "**1.Solution:**"
      ]
    },
    {
      "cell_type": "code",
      "metadata": {
        "id": "Ap3ZDKWDDQ1L"
      },
      "source": [
        "def range_test(f):\n",
        "    def range(x):\n",
        "        if x >= 0 and x < 1000:\n",
        "            return f(x)\n",
        "        else:\n",
        "            print(\"Number is out of range\")\n",
        "    return range\n",
        "    "
      ],
      "execution_count": null,
      "outputs": []
    },
    {
      "cell_type": "code",
      "metadata": {
        "id": "iCHrNZh2GZWA",
        "outputId": "adf7cd8b-13ed-4ea4-a46a-c8e358898753",
        "colab": {
          "base_uri": "https://localhost:8080/",
          "height": 34
        }
      },
      "source": [
        "@range_test\n",
        "def Fibonacci(n): \n",
        "    if n==0: \n",
        "        return 0\n",
        "    elif n==1: \n",
        "        return 1\n",
        "    elif n==2: \n",
        "        return 1\n",
        "    else: \n",
        "        return Fibonacci(n-1)+Fibonacci(n-2)\n",
        "\n",
        "print(Fibonacci(10))\n"
      ],
      "execution_count": null,
      "outputs": [
        {
          "output_type": "stream",
          "text": [
            "55\n"
          ],
          "name": "stdout"
        }
      ]
    },
    {
      "cell_type": "code",
      "metadata": {
        "id": "q0YiOCr1IvQE",
        "outputId": "8d13826b-10c4-43ac-d321-59e891402448",
        "colab": {
          "base_uri": "https://localhost:8080/",
          "height": 50
        }
      },
      "source": [
        "print(Fibonacci(-1))"
      ],
      "execution_count": null,
      "outputs": [
        {
          "output_type": "stream",
          "text": [
            "Number is out of range\n",
            "None\n"
          ],
          "name": "stdout"
        }
      ]
    },
    {
      "cell_type": "code",
      "metadata": {
        "id": "tPl9SPDKMJeA"
      },
      "source": [
        ""
      ],
      "execution_count": null,
      "outputs": []
    },
    {
      "cell_type": "markdown",
      "metadata": {
        "id": "WVNS1WurXEZq"
      },
      "source": [
        "**Solution for Optional Question on Generators Topic**"
      ]
    },
    {
      "cell_type": "code",
      "metadata": {
        "id": "PPaytO1_O-dK",
        "outputId": "cec7ac2d-6e56-4daf-eb8f-f5aac7290977",
        "colab": {
          "base_uri": "https://localhost:8080/",
          "height": 34
        }
      },
      "source": [
        "def checkArmstrong(lst):\n",
        "    for i in lst:\n",
        "        tot = 0\n",
        "        temp = i\n",
        "        while temp != 0:\n",
        "            dig = temp % 10\n",
        "            tot += dig ** 3\n",
        "            temp //= 10\n",
        "        if i == tot:\n",
        "            yield i\n",
        "\n",
        "lst=[int(i) for i in range(1,1001)]   \n",
        "newlist=list(checkArmstrong(lst))\n",
        "newlist\n",
        "    "
      ],
      "execution_count": null,
      "outputs": [
        {
          "output_type": "execute_result",
          "data": {
            "text/plain": [
              "[1, 153, 370, 371, 407]"
            ]
          },
          "metadata": {
            "tags": []
          },
          "execution_count": 44
        }
      ]
    },
    {
      "cell_type": "code",
      "metadata": {
        "id": "HAV5IdLzSJz-"
      },
      "source": [
        ""
      ],
      "execution_count": null,
      "outputs": []
    }
  ]
}