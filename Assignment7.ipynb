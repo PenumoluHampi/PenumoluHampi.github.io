{
  "nbformat": 4,
  "nbformat_minor": 0,
  "metadata": {
    "colab": {
      "name": "Assignment7.ipynb",
      "provenance": [],
      "authorship_tag": "ABX9TyOCSCi+tPZrhGe5Ll/HL5EP",
      "include_colab_link": true
    },
    "kernelspec": {
      "name": "python3",
      "display_name": "Python 3"
    }
  },
  "cells": [
    {
      "cell_type": "markdown",
      "metadata": {
        "id": "view-in-github",
        "colab_type": "text"
      },
      "source": [
        "<a href=\"https://colab.research.google.com/github/PenumoluHampi/PenumoluHampi.github.io/blob/master/Assignment7.ipynb\" target=\"_parent\"><img src=\"https://colab.research.google.com/assets/colab-badge.svg\" alt=\"Open In Colab\"/></a>"
      ]
    },
    {
      "cell_type": "markdown",
      "metadata": {
        "id": "Sq3eDP8R-3Vo"
      },
      "source": [
        "**Solution for First Question**"
      ]
    },
    {
      "cell_type": "markdown",
      "metadata": {
        "id": "MD6LauhX_B8x"
      },
      "source": [
        "**1.Solution:**"
      ]
    },
    {
      "cell_type": "code",
      "metadata": {
        "id": "SdMV8DJiGHE_"
      },
      "source": [
        "try: \n",
        "    print(\"we are in try block\")\n",
        "    file = open('Letsupgrade.txt','r')\n",
        "    statement = file.read()\n",
        "    file.write(\"I Love Free Coding School\")\n",
        "    print(statement)\n",
        "    file.close()\n",
        "    \n",
        "except Exception as e:  \n",
        "    print(\"There was an error - \", e)\n",
        "    \n",
        "finally:  \n",
        "    print(\"We are in Finally block\")\n",
        "    file.close()"
      ],
      "execution_count": null,
      "outputs": []
    },
    {
      "cell_type": "code",
      "metadata": {
        "id": "YQBN75YFGMCK"
      },
      "source": [
        ""
      ],
      "execution_count": null,
      "outputs": []
    },
    {
      "cell_type": "markdown",
      "metadata": {
        "id": "LE_xiIZaGbcs"
      },
      "source": [
        "**Solution for Second Question:**"
      ]
    },
    {
      "cell_type": "markdown",
      "metadata": {
        "id": "DnCQHlWrGmV1"
      },
      "source": [
        "**2.Solution:**"
      ]
    },
    {
      "cell_type": "markdown",
      "metadata": {
        "id": "EOfN1RMb6QdY"
      },
      "source": [
        "**Using PyLint**"
      ]
    },
    {
      "cell_type": "code",
      "metadata": {
        "id": "7xfPog6kHdd4",
        "outputId": "a5870429-f972-4caa-ee97-f6e257f37210",
        "colab": {
          "base_uri": "https://localhost:8080/",
          "height": 34
        }
      },
      "source": [
        "%%writefile prime.py\n",
        "\"\"\"\n",
        "This is a Python program to know whether a number is prime or not\n",
        "\"\"\"\n",
        "def prime_function(number):\n",
        "    '''\n",
        "    This is a function for prime\n",
        "    '''\n",
        "    if number == 1:\n",
        "        return False\n",
        "    if number == 2:\n",
        "        return True\n",
        "    if number not in (1, 2):\n",
        "        for i in range(2, number):\n",
        "            if number % i == 0:\n",
        "                return False\n",
        "            if number % i != 0:\n",
        "                return True\n",
        "    return None\n",
        "VAL = int(input('Enter the value to check:'))\n",
        "SOL = prime_function(VAL)\n",
        "print(SOL)\n",
        "\n"
      ],
      "execution_count": null,
      "outputs": [
        {
          "output_type": "stream",
          "text": [
            "Overwriting prime.py\n"
          ],
          "name": "stdout"
        }
      ]
    },
    {
      "cell_type": "code",
      "metadata": {
        "id": "VSpDY8obJPgQ",
        "outputId": "51f226ed-8239-49e1-c190-7e69bcdfce65",
        "colab": {
          "base_uri": "https://localhost:8080/",
          "height": 84
        }
      },
      "source": [
        "! pylint prime.py"
      ],
      "execution_count": null,
      "outputs": [
        {
          "output_type": "stream",
          "text": [
            "\n",
            "-------------------------------------------------------------------\n",
            "Your code has been rated at 10.00/10 (previous run: 9.33/10, +0.67)\n",
            "\n"
          ],
          "name": "stdout"
        }
      ]
    },
    {
      "cell_type": "code",
      "metadata": {
        "id": "lcc3KwG0ejcG"
      },
      "source": [
        " ! python prime.py"
      ],
      "execution_count": null,
      "outputs": []
    },
    {
      "cell_type": "markdown",
      "metadata": {
        "id": "O6-bT80U6XYK"
      },
      "source": [
        "**Using Unit Test**"
      ]
    },
    {
      "cell_type": "code",
      "metadata": {
        "id": "kTWYu5QPpRNO",
        "outputId": "132fbd83-a91e-4912-de54-98cbe352231b",
        "colab": {
          "base_uri": "https://localhost:8080/",
          "height": 34
        }
      },
      "source": [
        "%%writefile primeornot.py\n",
        "\n",
        "def prime_function(number):\n",
        "        if number == 1:\n",
        "            return False\n",
        "        if number == 2:\n",
        "            return True\n",
        "        if number not in (1, 2):\n",
        "            for i in range(2, number):\n",
        "                if number % i == 0:\n",
        "                    return False\n",
        "                if number % i != 0:\n",
        "                    return True\n",
        "        return None\n"
      ],
      "execution_count": null,
      "outputs": [
        {
          "output_type": "stream",
          "text": [
            "Overwriting primeornot.py\n"
          ],
          "name": "stdout"
        }
      ]
    },
    {
      "cell_type": "code",
      "metadata": {
        "id": "NOUaYSvwVez3",
        "outputId": "8f54a96f-5138-44a7-ffde-6f4d1dda9866",
        "colab": {
          "base_uri": "https://localhost:8080/",
          "height": 34
        }
      },
      "source": [
        "%%writefile prime_verification.py\n",
        "\n",
        "import unittest\n",
        "import primeornot\n",
        "\n",
        "class PrimeVerification(unittest.TestCase):\n",
        "\n",
        "      def testNprimeNComposite(self):\n",
        "          some_val = 1\n",
        "          result = primeornot.prime_function(some_val)\n",
        "          self.assertEqual(result,False)\n",
        "\n",
        "      def testevenprime(self):\n",
        "          some_val = 2\n",
        "          result = primeornot.prime_function(some_val)\n",
        "          self.assertEqual(result,True)\n",
        "\n",
        "      def testprime(self):\n",
        "          some_val = 5\n",
        "          result = primeornot.prime_function(some_val)\n",
        "          self.assertEqual(result,True)\n",
        "      def testnonprime(self):\n",
        "          some_val = 16\n",
        "          result = primeornot.prime_function(some_val)\n",
        "          self.assertEqual(result,False)\n",
        "\n",
        "\n",
        "if __name__ == \"__main__\":\n",
        "    unittest.main()\n"
      ],
      "execution_count": null,
      "outputs": [
        {
          "output_type": "stream",
          "text": [
            "Overwriting prime_verification.py\n"
          ],
          "name": "stdout"
        }
      ]
    },
    {
      "cell_type": "code",
      "metadata": {
        "id": "Ehyk_HseJ2w-",
        "outputId": "7e4f204b-8961-4817-bc80-791ae4314f5a",
        "colab": {
          "base_uri": "https://localhost:8080/",
          "height": 101
        }
      },
      "source": [
        "! python prime_verification.py\n"
      ],
      "execution_count": null,
      "outputs": [
        {
          "output_type": "stream",
          "text": [
            "....\n",
            "----------------------------------------------------------------------\n",
            "Ran 4 tests in 0.000s\n",
            "\n",
            "OK\n"
          ],
          "name": "stdout"
        }
      ]
    },
    {
      "cell_type": "code",
      "metadata": {
        "id": "3Dc45ti_yhpL"
      },
      "source": [
        ""
      ],
      "execution_count": null,
      "outputs": []
    }
  ]
}