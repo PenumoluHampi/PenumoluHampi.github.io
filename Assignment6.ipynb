{
  "nbformat": 4,
  "nbformat_minor": 0,
  "metadata": {
    "colab": {
      "name": "Assignment6.ipynb",
      "provenance": [],
      "collapsed_sections": [],
      "authorship_tag": "ABX9TyOcyH5oeU1xURyZoG0+zgpB",
      "include_colab_link": true
    },
    "kernelspec": {
      "name": "python3",
      "display_name": "Python 3"
    }
  },
  "cells": [
    {
      "cell_type": "markdown",
      "metadata": {
        "id": "view-in-github",
        "colab_type": "text"
      },
      "source": [
        "<a href=\"https://colab.research.google.com/github/PenumoluHampi/PenumoluHampi.github.io/blob/master/Assignment6.ipynb\" target=\"_parent\"><img src=\"https://colab.research.google.com/assets/colab-badge.svg\" alt=\"Open In Colab\"/></a>"
      ]
    },
    {
      "cell_type": "markdown",
      "metadata": {
        "id": "CN58s47zNOwi"
      },
      "source": [
        "**First question Solution**"
      ]
    },
    {
      "cell_type": "markdown",
      "metadata": {
        "id": "gvgubNHlNXex"
      },
      "source": [
        "**1.Solution:**"
      ]
    },
    {
      "cell_type": "code",
      "metadata": {
        "id": "Qt-dh9OJNFJ1"
      },
      "source": [
        "class BankAccount():\n",
        "  def __init__(self,owner,balance=0):\n",
        "    self.owner=owner\n",
        "    self.balance=0\n",
        "\n",
        "  \n",
        "  def deposit(self):\n",
        "    print('Name of the owner:',self.owner)\n",
        "    amount = float(input(\"Enter amount to be deposited: \")) \n",
        "    self.balance += amount \n",
        "    print('================================')\n",
        "    print(\"Owner Name:\",self.owner)\n",
        "    print(\"Amount Deposited:\", amount)\n",
        "    print(\"Net Available Balance=\",self.balance)  \n",
        "\n",
        "\n",
        "  def withdraw(self): \n",
        "      print('================================')\n",
        "      print('Name of the owner:',self.owner)\n",
        "      amount = float(input(\"Enter amount to be withdrawn: \")) \n",
        "      if self.balance >= amount: \n",
        "        self.balance -= amount \n",
        "        print('================================')\n",
        "        print(\"Owner Name:\",self.owner)\n",
        "        print(\"Amount Withdrawn:\", amount) \n",
        "      else: \n",
        "        print(\"Insufficient balance \")\n",
        "\n",
        "      print(\"Net Available Balance=\",self.balance)\n",
        "\n",
        "obj=BankAccount(\"XYZ\")\n",
        "obj.deposit()\n",
        "obj.withdraw() \n"
      ],
      "execution_count": null,
      "outputs": []
    },
    {
      "cell_type": "code",
      "metadata": {
        "id": "w5SmSgOCUlG_"
      },
      "source": [
        ""
      ],
      "execution_count": null,
      "outputs": []
    },
    {
      "cell_type": "code",
      "metadata": {
        "id": "4sQ4ZL4fYBgr"
      },
      "source": [
        ""
      ],
      "execution_count": null,
      "outputs": []
    },
    {
      "cell_type": "code",
      "metadata": {
        "id": "rpop2nT7YBt2"
      },
      "source": [
        ""
      ],
      "execution_count": null,
      "outputs": []
    },
    {
      "cell_type": "markdown",
      "metadata": {
        "id": "q_ZEcWM-YCrU"
      },
      "source": [
        "**Solution for second question**"
      ]
    },
    {
      "cell_type": "code",
      "metadata": {
        "id": "-LPVvhBvYJRa"
      },
      "source": [
        "import math\n",
        "class Cone():\n",
        "  \n",
        "\n",
        "  def __init__(self,radius,height):\n",
        "    self.radius=radius\n",
        "    self.height=height\n",
        "\n",
        "\n",
        "  def Volume(self):\n",
        "    vol=math.pi * self.radius * self.radius * (self.height/3)\n",
        "    print('Volume of Cone:',vol)\n",
        "\n",
        "\n",
        "  def SurfaceArea(self):\n",
        "    base=math.pi * self.radius *self.radius \n",
        "    print('Base:',base)\n",
        "    side= math.pi * self.radius * math.sqrt((self.radius * self.radius) +(self.height * self.height))\n",
        "    print('Lateral Surface:',side)\n",
        "\n",
        "OBJ=Cone(5,7)\n",
        "OBJ.Volume()\n",
        "OBJ.SurfaceArea()\n",
        "    \n"
      ],
      "execution_count": null,
      "outputs": []
    },
    {
      "cell_type": "code",
      "metadata": {
        "id": "xam6cTqEc1zH"
      },
      "source": [
        ""
      ],
      "execution_count": null,
      "outputs": []
    }
  ]
}